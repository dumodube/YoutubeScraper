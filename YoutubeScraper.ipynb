{
 "cells": [
  {
   "cell_type": "code",
   "execution_count": 2,
   "metadata": {},
   "outputs": [],
   "source": [
    "import urllib.request\n",
    "import urllib.parse\n",
    "import urllib.error\n",
    "from bs4 import BeautifulSoup\n",
    "import ssl\n",
    "import json\n",
    "import ast\n",
    "import json\n",
    "import os\n",
    "from urllib.request import Request, urlopen"
   ]
  },
  {
   "cell_type": "code",
   "execution_count": 3,
   "metadata": {},
   "outputs": [],
   "source": [
    "# For ignoring SSL certificate errors\n",
    "\n",
    "ctx = ssl.create_default_context()\n",
    "ctx.check_hostname = False\n",
    "ctx.verify_mode = ssl.CERT_NONE"
   ]
  },
  {
   "cell_type": "code",
   "execution_count": 5,
   "metadata": {},
   "outputs": [
    {
     "name": "stdout",
     "output_type": "stream",
     "text": [
      "Enter Youtube Video Url- https://www.youtube.com/watch?v=-MHhA-Y3DSk&t=655s\n"
     ]
    }
   ],
   "source": [
    "# Input from user\n",
    "\n",
    "url = input('Enter Youtube Video Url- ')\n"
   ]
  },
  {
   "cell_type": "code",
   "execution_count": 6,
   "metadata": {},
   "outputs": [],
   "source": [
    "# Make the website believe that you are accessing it using a mozilla browser\n",
    "\n",
    "req = Request(url, headers={'User-Agent': 'Mozilla/5.0'})\n",
    "webpage = urlopen(req).read()"
   ]
  },
  {
   "cell_type": "code",
   "execution_count": 8,
   "metadata": {},
   "outputs": [
    {
     "name": "stdout",
     "output_type": "stream",
     "text": [
      "----------Extraction of data is complete. Check json file.----------\n"
     ]
    }
   ],
   "source": [
    "# Creating a BeautifulSoup object of the html page for easy extraction of data.\n",
    "\n",
    "soup = BeautifulSoup(webpage, 'html.parser')\n",
    "html = soup.prettify('utf-8')\n",
    "video_details = {}\n",
    "other_details = {}\n",
    "\n",
    "for span in soup.findAll('span',attrs={'class': 'watch-title'}):\n",
    "    video_details['TITLE'] = span.text.strip()\n",
    "\n",
    "for script in soup.findAll('script',attrs={'type': 'application/ld+json'}):\n",
    "        channelDesctiption = json.loads(script.text.strip())\n",
    "        video_details['CHANNEL_NAME'] = channelDesctiption['itemListElement'][0]['item']['name']\n",
    "\n",
    "for div in soup.findAll('div',attrs={'class': 'watch-view-count'}):\n",
    "    video_details['NUMBER_OF_VIEWS'] = div.text.strip()\n",
    "\n",
    "for button in soup.findAll('button',attrs={'title': 'I like this'}):\n",
    "    video_details['LIKES'] = button.text.strip()\n",
    "\n",
    "for button in soup.findAll('button',attrs={'title': 'I dislike this'}):\n",
    "    video_details['DISLIKES'] = button.text.strip()\n",
    "\n",
    "for span in soup.findAll('span',attrs={'class': 'yt-subscription-button-subscriber-count-branded-horizontal yt-subscriber-count'}):\n",
    "    video_details['NUMBER_OF_SUBSCRIPTIONS'] = span.text.strip()\n",
    "\n",
    "hashtags = []\n",
    "for span in soup.findAll('span',attrs={'class': 'standalone-collection-badge-renderer-text'}):\n",
    "    for a in span.findAll('a',attrs={'class': 'yt-uix-sessionlink'}):\n",
    "        hashtags.append(a.text.strip())\n",
    "video_details['HASH_TAGS'] = hashtags\n",
    "\n",
    "with open('output_file.html', 'wb') as file:\n",
    "    file.write(html)\n",
    "\n",
    "with open('data.json', 'w', encoding='utf8') as outfile:\n",
    "    json.dump(video_details, outfile, ensure_ascii=False,indent=4)\n",
    "\n",
    "print ('----------Extraction of data is complete. Check json file.----------')"
   ]
  },
  {
   "cell_type": "code",
   "execution_count": null,
   "metadata": {},
   "outputs": [],
   "source": []
  }
 ],
 "metadata": {
  "kernelspec": {
   "display_name": "Python 3",
   "language": "python",
   "name": "python3"
  },
  "language_info": {
   "codemirror_mode": {
    "name": "ipython",
    "version": 3
   },
   "file_extension": ".py",
   "mimetype": "text/x-python",
   "name": "python",
   "nbconvert_exporter": "python",
   "pygments_lexer": "ipython3",
   "version": "3.7.4"
  }
 },
 "nbformat": 4,
 "nbformat_minor": 2
}
